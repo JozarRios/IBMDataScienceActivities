{
 "cells": [
  {
   "cell_type": "markdown",
   "id": "d0c6c6a8-fbac-4e42-bc69-f6904412790f",
   "metadata": {},
   "source": []
  },
  {
   "cell_type": "markdown",
   "id": "279f936b-4520-461c-aea6-080462356eb2",
   "metadata": {},
   "source": [
    "# Data Science Tools and Ecosystem"
   ]
  },
  {
   "cell_type": "markdown",
   "id": "698d1386-b462-411e-88a6-fee287c4c1cf",
   "metadata": {},
   "source": [
    "In this notebook, Data Science Tools and Ecosystem are summarized.\n"
   ]
  },
  {
   "cell_type": "markdown",
   "id": "62000787-7844-40b3-894d-5686d07b11dc",
   "metadata": {},
   "source": [
    "Some of the popular languages that Data Scientists use are:\n",
    "\n",
    "1. Python\n",
    "2. R\n",
    "3. SQL\n",
    "4. Scala\n",
    "5. Java"
   ]
  },
  {
   "cell_type": "markdown",
   "id": "0cc1c244-e733-488e-a55b-9ff92ef232ab",
   "metadata": {},
   "source": [
    "Some of the commonly used libraries used by Data Scientists include:\n",
    "\n",
    "1. Pandas\n",
    "2. Numpy\n",
    "3. Sci-kit Learn\n",
    "4. ggplot\n",
    "5. dyplr"
   ]
  },
  {
   "cell_type": "markdown",
   "id": "ae2fa1d5-2826-4b51-af52-c07adc091f29",
   "metadata": {},
   "source": [
    "| Data Science Tools    |\n",
    "|-----------------------|\n",
    "| Jupyter Notebook       |\n",
    "| RStudio                |\n",
    "| Apache Zeppelin        |\n"
   ]
  },
  {
   "cell_type": "markdown",
   "id": "5d90bb44-7f25-4911-9c05-9ce182299e9e",
   "metadata": {},
   "source": [
    "### Below are a few examples of evaluating arithmetic expressions in Python\n",
    "\n",
    "Arithmetic expressions can be evaluated using standard operators. Here are some examples:\n",
    "\n",
    "- Addition: 0.5 + 5\n",
    "- Subtraction:  10 - 4\n",
    "- Multiplication: 2 * 6\n",
    "- Division: 15 / 3\n"
   ]
  },
  {
   "cell_type": "code",
   "execution_count": 1,
   "id": "6be1ecde-fc9a-4644-af9f-78e7ac0eb744",
   "metadata": {},
   "outputs": [
    {
     "name": "stdout",
     "output_type": "stream",
     "text": [
      "17\n"
     ]
    }
   ],
   "source": [
    "# This is a simple arithmetic expression to multiply then add integers.\n",
    "mult = (3 * 4) + 5\n",
    "print(mult)"
   ]
  },
  {
   "cell_type": "code",
   "execution_count": 3,
   "id": "30dea9de-568f-446d-ab50-470199ba5cde",
   "metadata": {},
   "outputs": [
    {
     "data": {
      "text/plain": [
       "3.3333333333333335"
      ]
     },
     "execution_count": 3,
     "metadata": {},
     "output_type": "execute_result"
    }
   ],
   "source": [
    "# This will convert 200 minutes to hours by dividing by 60\n",
    "mins = 200\n",
    "hrs = mins / 60\n",
    "hrs\n"
   ]
  },
  {
   "cell_type": "markdown",
   "id": "b71f9007-ceb4-4ee5-84e4-ed17bace8c21",
   "metadata": {},
   "source": [
    "**Objectives:**\n",
    "\n",
    "- List popular languages for Data Science\n",
    "- Explain commonly used libraries in Data Science\n",
    "- Demonstrate how to evaluate arithmetic expressions in Python\n",
    "- Convert time from minutes to hours in Python\n",
    "- Create and format tables in Jupyter Notebook using Markdown\n"
   ]
  },
  {
   "cell_type": "markdown",
   "id": "e19d7540-6e67-4ec4-8681-20d9206f5878",
   "metadata": {},
   "source": [
    "## Author\n",
    "\n",
    "Jozar Rios\n",
    "\n"
   ]
  },
  {
   "cell_type": "code",
   "execution_count": null,
   "id": "f57eec62-71da-4dba-8797-b3ec4dfcc2cd",
   "metadata": {},
   "outputs": [],
   "source": []
  }
 ],
 "metadata": {
  "kernelspec": {
   "display_name": "Python 3 (ipykernel)",
   "language": "python",
   "name": "python3"
  },
  "language_info": {
   "codemirror_mode": {
    "name": "ipython",
    "version": 3
   },
   "file_extension": ".py",
   "mimetype": "text/x-python",
   "name": "python",
   "nbconvert_exporter": "python",
   "pygments_lexer": "ipython3",
   "version": "3.9.12"
  }
 },
 "nbformat": 4,
 "nbformat_minor": 5
}
